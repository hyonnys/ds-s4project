{
 "cells": [
  {
   "cell_type": "code",
   "execution_count": 12,
   "id": "f13b8f9a",
   "metadata": {},
   "outputs": [
    {
     "name": "stdout",
     "output_type": "stream",
     "text": [
      "Requirement already satisfied: pandas in c:\\users\\owner\\anaconda3\\lib\\site-packages (1.5.3)\n",
      "Requirement already satisfied: python-dateutil>=2.8.1 in c:\\users\\owner\\anaconda3\\lib\\site-packages (from pandas) (2.8.2)\n",
      "Requirement already satisfied: numpy>=1.21.0 in c:\\users\\owner\\anaconda3\\lib\\site-packages (from pandas) (1.23.5)\n",
      "Requirement already satisfied: pytz>=2020.1 in c:\\users\\owner\\anaconda3\\lib\\site-packages (from pandas) (2022.7)\n",
      "Requirement already satisfied: six>=1.5 in c:\\users\\owner\\anaconda3\\lib\\site-packages (from python-dateutil>=2.8.1->pandas) (1.16.0)\n",
      "Requirement already satisfied: numpy in c:\\users\\owner\\anaconda3\\lib\\site-packages (1.23.5)\n",
      "Requirement already satisfied: scikit-learn in c:\\users\\owner\\anaconda3\\lib\\site-packages (1.2.1)\n",
      "Collecting scikit-learn\n",
      "  Downloading scikit_learn-1.2.2-cp310-cp310-win_amd64.whl (8.3 MB)\n",
      "     ---------------------------------------- 8.3/8.3 MB 5.5 MB/s eta 0:00:00\n",
      "Requirement already satisfied: numpy>=1.17.3 in c:\\users\\owner\\anaconda3\\lib\\site-packages (from scikit-learn) (1.23.5)\n",
      "Requirement already satisfied: scipy>=1.3.2 in c:\\users\\owner\\anaconda3\\lib\\site-packages (from scikit-learn) (1.10.0)\n",
      "Requirement already satisfied: threadpoolctl>=2.0.0 in c:\\users\\owner\\anaconda3\\lib\\site-packages (from scikit-learn) (2.2.0)\n",
      "Requirement already satisfied: joblib>=1.1.1 in c:\\users\\owner\\anaconda3\\lib\\site-packages (from scikit-learn) (1.1.1)\n",
      "Installing collected packages: scikit-learn\n",
      "  Attempting uninstall: scikit-learn\n",
      "    Found existing installation: scikit-learn 1.2.1\n",
      "    Uninstalling scikit-learn-1.2.1:\n",
      "      Successfully uninstalled scikit-learn-1.2.1\n",
      "Successfully installed scikit-learn-1.2.2\n"
     ]
    }
   ],
   "source": [
    "!pip install pandas\n",
    "!pip install numpy\n",
    "!pip install -U scikit-learn"
   ]
  },
  {
   "cell_type": "code",
   "execution_count": 1,
   "id": "c03625ac",
   "metadata": {},
   "outputs": [],
   "source": [
    "import sqlite3\n",
    "\n",
    "con=sqlite3. connect('./data/waitlist.db')\n",
    "cur=con.cursor()"
   ]
  },
  {
   "cell_type": "code",
   "execution_count": 2,
   "id": "3a789379",
   "metadata": {},
   "outputs": [],
   "source": [
    "import pandas as pd\n",
    "import numpy as np\n",
    "from sklearn.pipeline import make_pipeline\n",
    "from sklearn.ensemble import RandomForestRegressor\n",
    "from sklearn.model_selection import train_test_split, RandomizedSearchCV\n",
    "from sklearn.impute import SimpleImputer\n",
    "from sklearn.preprocessing import MinMaxScaler, LabelEncoder"
   ]
  },
  {
   "cell_type": "code",
   "execution_count": 3,
   "id": "1a7b99c5",
   "metadata": {},
   "outputs": [
    {
     "data": {
      "text/html": [
       "<div>\n",
       "<style scoped>\n",
       "    .dataframe tbody tr th:only-of-type {\n",
       "        vertical-align: middle;\n",
       "    }\n",
       "\n",
       "    .dataframe tbody tr th {\n",
       "        vertical-align: top;\n",
       "    }\n",
       "\n",
       "    .dataframe thead th {\n",
       "        text-align: right;\n",
       "    }\n",
       "</style>\n",
       "<table border=\"1\" class=\"dataframe\">\n",
       "  <thead>\n",
       "    <tr style=\"text-align: right;\">\n",
       "      <th></th>\n",
       "      <th>patient_id</th>\n",
       "      <th>age_cat</th>\n",
       "      <th>dialysis_duration</th>\n",
       "      <th>gender</th>\n",
       "      <th>underlying_disease</th>\n",
       "      <th>blood_group</th>\n",
       "      <th>gestation</th>\n",
       "      <th>prior_transplant</th>\n",
       "      <th>cPRA_cat</th>\n",
       "      <th>HLA_A1</th>\n",
       "      <th>...</th>\n",
       "      <th>HLA_B1</th>\n",
       "      <th>HLA_B2</th>\n",
       "      <th>HLA_DR1</th>\n",
       "      <th>HLA_DR2</th>\n",
       "      <th>DR_00</th>\n",
       "      <th>B_00</th>\n",
       "      <th>A_00</th>\n",
       "      <th>death</th>\n",
       "      <th>transplanted_or_not</th>\n",
       "      <th>waiting_time</th>\n",
       "    </tr>\n",
       "  </thead>\n",
       "  <tbody>\n",
       "    <tr>\n",
       "      <th>0</th>\n",
       "      <td>1</td>\n",
       "      <td>Over60</td>\n",
       "      <td>1.0</td>\n",
       "      <td>M</td>\n",
       "      <td>others</td>\n",
       "      <td>A</td>\n",
       "      <td>No</td>\n",
       "      <td>No</td>\n",
       "      <td>Zero</td>\n",
       "      <td>1</td>\n",
       "      <td>...</td>\n",
       "      <td>44</td>\n",
       "      <td>51</td>\n",
       "      <td>3</td>\n",
       "      <td>7</td>\n",
       "      <td>Heterozygote</td>\n",
       "      <td>Heterozygote</td>\n",
       "      <td>Heterozygote</td>\n",
       "      <td>No</td>\n",
       "      <td>No</td>\n",
       "      <td>13.07</td>\n",
       "    </tr>\n",
       "    <tr>\n",
       "      <th>1</th>\n",
       "      <td>2</td>\n",
       "      <td>From18to60</td>\n",
       "      <td>4.0</td>\n",
       "      <td>M</td>\n",
       "      <td>diabetes</td>\n",
       "      <td>A</td>\n",
       "      <td>No</td>\n",
       "      <td>No</td>\n",
       "      <td>Zero</td>\n",
       "      <td>1</td>\n",
       "      <td>...</td>\n",
       "      <td>18</td>\n",
       "      <td>35</td>\n",
       "      <td>11</td>\n",
       "      <td>0</td>\n",
       "      <td>Homozygote</td>\n",
       "      <td>Heterozygote</td>\n",
       "      <td>Heterozygote</td>\n",
       "      <td>Yes</td>\n",
       "      <td>No</td>\n",
       "      <td>68.87</td>\n",
       "    </tr>\n",
       "    <tr>\n",
       "      <th>2</th>\n",
       "      <td>3</td>\n",
       "      <td>From18to60</td>\n",
       "      <td>2.0</td>\n",
       "      <td>M</td>\n",
       "      <td>HUS</td>\n",
       "      <td>O</td>\n",
       "      <td>No</td>\n",
       "      <td>No</td>\n",
       "      <td>From50To80</td>\n",
       "      <td>24</td>\n",
       "      <td>...</td>\n",
       "      <td>14</td>\n",
       "      <td>18</td>\n",
       "      <td>1</td>\n",
       "      <td>15</td>\n",
       "      <td>Heterozygote</td>\n",
       "      <td>Heterozygote</td>\n",
       "      <td>Heterozygote</td>\n",
       "      <td>No</td>\n",
       "      <td>No</td>\n",
       "      <td>12.17</td>\n",
       "    </tr>\n",
       "    <tr>\n",
       "      <th>3</th>\n",
       "      <td>4</td>\n",
       "      <td>From18to60</td>\n",
       "      <td>17.0</td>\n",
       "      <td>M</td>\n",
       "      <td>diabetes</td>\n",
       "      <td>O</td>\n",
       "      <td>No</td>\n",
       "      <td>Yes</td>\n",
       "      <td>ZeroTo50</td>\n",
       "      <td>24</td>\n",
       "      <td>...</td>\n",
       "      <td>14</td>\n",
       "      <td>18</td>\n",
       "      <td>1</td>\n",
       "      <td>15</td>\n",
       "      <td>Heterozygote</td>\n",
       "      <td>Heterozygote</td>\n",
       "      <td>Heterozygote</td>\n",
       "      <td>No</td>\n",
       "      <td>No</td>\n",
       "      <td>12.17</td>\n",
       "    </tr>\n",
       "    <tr>\n",
       "      <th>4</th>\n",
       "      <td>5</td>\n",
       "      <td>Over60</td>\n",
       "      <td>68.0</td>\n",
       "      <td>M</td>\n",
       "      <td>HUS</td>\n",
       "      <td>A</td>\n",
       "      <td>No</td>\n",
       "      <td>No</td>\n",
       "      <td>Zero</td>\n",
       "      <td>24</td>\n",
       "      <td>...</td>\n",
       "      <td>14</td>\n",
       "      <td>27</td>\n",
       "      <td>13</td>\n",
       "      <td>15</td>\n",
       "      <td>Heterozygote</td>\n",
       "      <td>Heterozygote</td>\n",
       "      <td>Heterozygote</td>\n",
       "      <td>Yes</td>\n",
       "      <td>No</td>\n",
       "      <td>6.47</td>\n",
       "    </tr>\n",
       "  </tbody>\n",
       "</table>\n",
       "<p>5 rows × 21 columns</p>\n",
       "</div>"
      ],
      "text/plain": [
       "   patient_id     age_cat  dialysis_duration gender underlying_disease  \\\n",
       "0           1      Over60                1.0      M             others   \n",
       "1           2  From18to60                4.0      M           diabetes   \n",
       "2           3  From18to60                2.0      M                HUS   \n",
       "3           4  From18to60               17.0      M           diabetes   \n",
       "4           5      Over60               68.0      M                HUS   \n",
       "\n",
       "  blood_group gestation prior_transplant    cPRA_cat  HLA_A1  ...  HLA_B1  \\\n",
       "0           A        No               No        Zero       1  ...      44   \n",
       "1           A        No               No        Zero       1  ...      18   \n",
       "2           O        No               No  From50To80      24  ...      14   \n",
       "3           O        No              Yes    ZeroTo50      24  ...      14   \n",
       "4           A        No               No        Zero      24  ...      14   \n",
       "\n",
       "   HLA_B2  HLA_DR1  HLA_DR2         DR_00          B_00          A_00 death  \\\n",
       "0      51        3        7  Heterozygote  Heterozygote  Heterozygote    No   \n",
       "1      35       11        0    Homozygote  Heterozygote  Heterozygote   Yes   \n",
       "2      18        1       15  Heterozygote  Heterozygote  Heterozygote    No   \n",
       "3      18        1       15  Heterozygote  Heterozygote  Heterozygote    No   \n",
       "4      27       13       15  Heterozygote  Heterozygote  Heterozygote   Yes   \n",
       "\n",
       "  transplanted_or_not waiting_time  \n",
       "0                  No        13.07  \n",
       "1                  No        68.87  \n",
       "2                  No        12.17  \n",
       "3                  No        12.17  \n",
       "4                  No         6.47  \n",
       "\n",
       "[5 rows x 21 columns]"
      ]
     },
     "execution_count": 3,
     "metadata": {},
     "output_type": "execute_result"
    }
   ],
   "source": [
    "df = pd.read_sql_query(\"SELECT * FROM kidney_waitlist\", con)\n",
    "df.head()"
   ]
  },
  {
   "cell_type": "code",
   "execution_count": 6,
   "id": "c0216e89",
   "metadata": {},
   "outputs": [
    {
     "data": {
      "text/plain": [
       "array(['A', 'O', 'B', 'AB'], dtype=object)"
      ]
     },
     "execution_count": 6,
     "metadata": {},
     "output_type": "execute_result"
    }
   ],
   "source": [
    "df['blood_group'].unique()"
   ]
  },
  {
   "cell_type": "code",
   "execution_count": 8,
   "id": "4df3462a",
   "metadata": {},
   "outputs": [
    {
     "data": {
      "text/html": [
       "<div>\n",
       "<style scoped>\n",
       "    .dataframe tbody tr th:only-of-type {\n",
       "        vertical-align: middle;\n",
       "    }\n",
       "\n",
       "    .dataframe tbody tr th {\n",
       "        vertical-align: top;\n",
       "    }\n",
       "\n",
       "    .dataframe thead th {\n",
       "        text-align: right;\n",
       "    }\n",
       "</style>\n",
       "<table border=\"1\" class=\"dataframe\">\n",
       "  <thead>\n",
       "    <tr style=\"text-align: right;\">\n",
       "      <th></th>\n",
       "      <th>patient_id</th>\n",
       "      <th>age_cat</th>\n",
       "      <th>dialysis_duration</th>\n",
       "      <th>gender</th>\n",
       "      <th>underlying_disease</th>\n",
       "      <th>blood_group</th>\n",
       "      <th>gestation</th>\n",
       "      <th>prior_transplant</th>\n",
       "      <th>cPRA_cat</th>\n",
       "      <th>HLA_A1</th>\n",
       "      <th>...</th>\n",
       "      <th>HLA_B1</th>\n",
       "      <th>HLA_B2</th>\n",
       "      <th>HLA_DR1</th>\n",
       "      <th>HLA_DR2</th>\n",
       "      <th>DR_00</th>\n",
       "      <th>B_00</th>\n",
       "      <th>A_00</th>\n",
       "      <th>death</th>\n",
       "      <th>transplanted_or_not</th>\n",
       "      <th>waiting_time</th>\n",
       "    </tr>\n",
       "  </thead>\n",
       "  <tbody>\n",
       "    <tr>\n",
       "      <th>7671</th>\n",
       "      <td>7672</td>\n",
       "      <td>From18to60</td>\n",
       "      <td>9.0</td>\n",
       "      <td>F</td>\n",
       "      <td>GNS</td>\n",
       "      <td>O</td>\n",
       "      <td>No</td>\n",
       "      <td>Yes</td>\n",
       "      <td>Over80</td>\n",
       "      <td>1</td>\n",
       "      <td>...</td>\n",
       "      <td>14</td>\n",
       "      <td>51</td>\n",
       "      <td>1</td>\n",
       "      <td>8</td>\n",
       "      <td>Heterozygote</td>\n",
       "      <td>Heterozygote</td>\n",
       "      <td>Heterozygote</td>\n",
       "      <td>No</td>\n",
       "      <td>No</td>\n",
       "      <td>10.27</td>\n",
       "    </tr>\n",
       "  </tbody>\n",
       "</table>\n",
       "<p>1 rows × 21 columns</p>\n",
       "</div>"
      ],
      "text/plain": [
       "      patient_id     age_cat  dialysis_duration gender underlying_disease  \\\n",
       "7671        7672  From18to60                9.0      F                GNS   \n",
       "\n",
       "     blood_group gestation prior_transplant cPRA_cat  HLA_A1  ...  HLA_B1  \\\n",
       "7671           O        No              Yes   Over80       1  ...      14   \n",
       "\n",
       "      HLA_B2  HLA_DR1  HLA_DR2         DR_00          B_00          A_00  \\\n",
       "7671      51        1        8  Heterozygote  Heterozygote  Heterozygote   \n",
       "\n",
       "     death transplanted_or_not waiting_time  \n",
       "7671    No                  No        10.27  \n",
       "\n",
       "[1 rows x 21 columns]"
      ]
     },
     "execution_count": 8,
     "metadata": {},
     "output_type": "execute_result"
    }
   ],
   "source": [
    "df.loc[[7671]]"
   ]
  },
  {
   "cell_type": "code",
   "execution_count": 12,
   "id": "5bc37c35",
   "metadata": {},
   "outputs": [
    {
     "data": {
      "text/plain": [
       "array([  1.,   4.,   2.,  17.,  68.,  18.,  29.,   7.,  10.,  12.,  14.,\n",
       "       102.,   9.,  21.,   3.,  55.,  82.,   6.,   5.,  27.,  20.,   8.,\n",
       "        98.,  24.,  71.,  19.,  83.,  16.,  23.,  25.,  15.,  22.,  11.,\n",
       "        36.,  49., 101.,  78.,  46.,  30.,  57.,  63.,  43., 180.,  34.,\n",
       "        28.,  31.,  13.,  74.,  52.,  32.,  41.,  73.,  35.,  72.,  39.,\n",
       "        65.,  88.,  56.,  92., 131.,  66.,  69., 158.,  40.,  26., 122.,\n",
       "        42.,  89.,  33.,  53.,  37.,  54., 111.,  45.,  62., 110.,  59.,\n",
       "        51., 145., 147., 121.,  87.,  80., 100.,  47., 134.,  44.,  77.,\n",
       "        79.,  38.,  58., 173., 118., 108.,  81.,  70.,  48., 165.,  90.,\n",
       "       115.,  61.,  95.,  67., 106.,  50.,  86.,  75., 129., 128.,  64.,\n",
       "        93.,  85.,  94.,  60., 104.,  84., 109., 126.,  91., 105., 170.,\n",
       "       143., 177., 138., 167., 142.,  76., 103., 130., 114., 119., 113.,\n",
       "       163., 124., 159., 135.,  99., 125., 176., 169., 146., 120., 150.,\n",
       "       144., 175., 117., 112., 127., 132.,  97., 139., 164.,  96., 152.,\n",
       "       148., 107., 133., 178., 149., 160., 155., 153., 116., 137., 141.,\n",
       "       157., 179., 123., 166., 172., 161., 162., 136., 140., 168., 151.,\n",
       "       156., 154., 174., 171.])"
      ]
     },
     "execution_count": 12,
     "metadata": {},
     "output_type": "execute_result"
    }
   ],
   "source": [
    "df['dialysis_duration'].unique()"
   ]
  },
  {
   "cell_type": "code",
   "execution_count": 47,
   "id": "aea5ce1f",
   "metadata": {},
   "outputs": [],
   "source": [
    "# separate feature / target\n",
    "y = df['waiting_time']\n",
    "x = df.drop(columns=['waiting_time', 'patient_id', 'death',\\\n",
    "                     'transplanted_or_not', 'HLA_A1', 'HLA_A2',\\\n",
    "                     'HLA_B1', 'HLA_B2', 'HLA_DR1', 'HLA_DR2'])"
   ]
  },
  {
   "cell_type": "code",
   "execution_count": 48,
   "id": "695ac566",
   "metadata": {
    "scrolled": true
   },
   "outputs": [
    {
     "name": "stdout",
     "output_type": "stream",
     "text": [
      "<class 'pandas.core.frame.DataFrame'>\n",
      "RangeIndex: 48153 entries, 0 to 48152\n",
      "Data columns (total 11 columns):\n",
      " #   Column              Non-Null Count  Dtype  \n",
      "---  ------              --------------  -----  \n",
      " 0   age_cat             48153 non-null  object \n",
      " 1   dialysis_duration   48153 non-null  float64\n",
      " 2   gender              48153 non-null  object \n",
      " 3   underlying_disease  48153 non-null  object \n",
      " 4   blood_group         48153 non-null  object \n",
      " 5   gestation           48153 non-null  object \n",
      " 6   prior_transplant    48153 non-null  object \n",
      " 7   cPRA_cat            48153 non-null  object \n",
      " 8   DR_00               48153 non-null  object \n",
      " 9   B_00                48153 non-null  object \n",
      " 10  A_00                48153 non-null  object \n",
      "dtypes: float64(1), object(10)\n",
      "memory usage: 4.0+ MB\n"
     ]
    }
   ],
   "source": [
    "x.info()"
   ]
  },
  {
   "cell_type": "code",
   "execution_count": 49,
   "id": "b9beadce",
   "metadata": {},
   "outputs": [],
   "source": [
    "# separate train / test\n",
    "x_train, x_test,y_train, y_test = train_test_split(x, y,test_size=0.2, random_state=42)"
   ]
  },
  {
   "cell_type": "code",
   "execution_count": 50,
   "id": "179dc4ec",
   "metadata": {},
   "outputs": [],
   "source": [
    "# 범주형 데이터 인코딩\n",
    "from sklearn.preprocessing import LabelEncoder\n",
    "\n",
    "cat_features = x.select_dtypes(include=['object']).columns\n",
    "le = LabelEncoder()\n",
    "\n",
    "for column in cat_features:\n",
    "    x_train[column] = le.fit_transform(x_train[column])\n",
    "    x_test[column] = le.transform(x_test[column])"
   ]
  },
  {
   "cell_type": "code",
   "execution_count": 51,
   "id": "5a6dae37",
   "metadata": {
    "scrolled": true
   },
   "outputs": [
    {
     "name": "stdout",
     "output_type": "stream",
     "text": [
      "<class 'pandas.core.frame.DataFrame'>\n",
      "Int64Index: 38522 entries, 7671 to 15795\n",
      "Data columns (total 11 columns):\n",
      " #   Column              Non-Null Count  Dtype  \n",
      "---  ------              --------------  -----  \n",
      " 0   age_cat             38522 non-null  int32  \n",
      " 1   dialysis_duration   38522 non-null  float64\n",
      " 2   gender              38522 non-null  int32  \n",
      " 3   underlying_disease  38522 non-null  int32  \n",
      " 4   blood_group         38522 non-null  int32  \n",
      " 5   gestation           38522 non-null  int32  \n",
      " 6   prior_transplant    38522 non-null  int32  \n",
      " 7   cPRA_cat            38522 non-null  int32  \n",
      " 8   DR_00               38522 non-null  int32  \n",
      " 9   B_00                38522 non-null  int32  \n",
      " 10  A_00                38522 non-null  int32  \n",
      "dtypes: float64(1), int32(10)\n",
      "memory usage: 2.1 MB\n"
     ]
    }
   ],
   "source": [
    "# 인코딩 확인\n",
    "x_train.info()"
   ]
  },
  {
   "cell_type": "code",
   "execution_count": 52,
   "id": "d0ba40ea",
   "metadata": {},
   "outputs": [
    {
     "data": {
      "text/html": [
       "<div>\n",
       "<style scoped>\n",
       "    .dataframe tbody tr th:only-of-type {\n",
       "        vertical-align: middle;\n",
       "    }\n",
       "\n",
       "    .dataframe tbody tr th {\n",
       "        vertical-align: top;\n",
       "    }\n",
       "\n",
       "    .dataframe thead th {\n",
       "        text-align: right;\n",
       "    }\n",
       "</style>\n",
       "<table border=\"1\" class=\"dataframe\">\n",
       "  <thead>\n",
       "    <tr style=\"text-align: right;\">\n",
       "      <th></th>\n",
       "      <th>age_cat</th>\n",
       "      <th>dialysis_duration</th>\n",
       "      <th>gender</th>\n",
       "      <th>underlying_disease</th>\n",
       "      <th>blood_group</th>\n",
       "      <th>gestation</th>\n",
       "      <th>prior_transplant</th>\n",
       "      <th>cPRA_cat</th>\n",
       "      <th>DR_00</th>\n",
       "      <th>B_00</th>\n",
       "      <th>A_00</th>\n",
       "    </tr>\n",
       "  </thead>\n",
       "  <tbody>\n",
       "    <tr>\n",
       "      <th>7671</th>\n",
       "      <td>1</td>\n",
       "      <td>9.0</td>\n",
       "      <td>0</td>\n",
       "      <td>0</td>\n",
       "      <td>3</td>\n",
       "      <td>0</td>\n",
       "      <td>1</td>\n",
       "      <td>1</td>\n",
       "      <td>0</td>\n",
       "      <td>0</td>\n",
       "      <td>0</td>\n",
       "    </tr>\n",
       "    <tr>\n",
       "      <th>30097</th>\n",
       "      <td>1</td>\n",
       "      <td>3.0</td>\n",
       "      <td>1</td>\n",
       "      <td>1</td>\n",
       "      <td>3</td>\n",
       "      <td>0</td>\n",
       "      <td>0</td>\n",
       "      <td>2</td>\n",
       "      <td>0</td>\n",
       "      <td>0</td>\n",
       "      <td>0</td>\n",
       "    </tr>\n",
       "    <tr>\n",
       "      <th>20348</th>\n",
       "      <td>1</td>\n",
       "      <td>2.0</td>\n",
       "      <td>1</td>\n",
       "      <td>4</td>\n",
       "      <td>0</td>\n",
       "      <td>0</td>\n",
       "      <td>0</td>\n",
       "      <td>2</td>\n",
       "      <td>0</td>\n",
       "      <td>0</td>\n",
       "      <td>0</td>\n",
       "    </tr>\n",
       "    <tr>\n",
       "      <th>17366</th>\n",
       "      <td>2</td>\n",
       "      <td>25.0</td>\n",
       "      <td>0</td>\n",
       "      <td>3</td>\n",
       "      <td>3</td>\n",
       "      <td>1</td>\n",
       "      <td>0</td>\n",
       "      <td>2</td>\n",
       "      <td>0</td>\n",
       "      <td>0</td>\n",
       "      <td>0</td>\n",
       "    </tr>\n",
       "    <tr>\n",
       "      <th>17050</th>\n",
       "      <td>1</td>\n",
       "      <td>5.0</td>\n",
       "      <td>1</td>\n",
       "      <td>1</td>\n",
       "      <td>3</td>\n",
       "      <td>0</td>\n",
       "      <td>0</td>\n",
       "      <td>2</td>\n",
       "      <td>0</td>\n",
       "      <td>0</td>\n",
       "      <td>0</td>\n",
       "    </tr>\n",
       "  </tbody>\n",
       "</table>\n",
       "</div>"
      ],
      "text/plain": [
       "       age_cat  dialysis_duration  gender  underlying_disease  blood_group  \\\n",
       "7671         1                9.0       0                   0            3   \n",
       "30097        1                3.0       1                   1            3   \n",
       "20348        1                2.0       1                   4            0   \n",
       "17366        2               25.0       0                   3            3   \n",
       "17050        1                5.0       1                   1            3   \n",
       "\n",
       "       gestation  prior_transplant  cPRA_cat  DR_00  B_00  A_00  \n",
       "7671           0                 1         1      0     0     0  \n",
       "30097          0                 0         2      0     0     0  \n",
       "20348          0                 0         2      0     0     0  \n",
       "17366          1                 0         2      0     0     0  \n",
       "17050          0                 0         2      0     0     0  "
      ]
     },
     "execution_count": 52,
     "metadata": {},
     "output_type": "execute_result"
    }
   ],
   "source": [
    "x_train.head()"
   ]
  },
  {
   "cell_type": "code",
   "execution_count": 75,
   "id": "9485622a",
   "metadata": {},
   "outputs": [],
   "source": [
    "model = make_pipeline(\n",
    "    MinMaxScaler(),\n",
    "    SimpleImputer(strategy='median'), \n",
    "    RandomForestRegressor(\n",
    "        n_estimators=100,\n",
    "        max_depth=10,\n",
    "        random_state=42)\n",
    ")\n",
    "\n",
    "model.fit(x_train, y_train)\n",
    "\n",
    "y_pred = model.predict(x_test)"
   ]
  },
  {
   "cell_type": "code",
   "execution_count": 54,
   "id": "ed5d3796",
   "metadata": {
    "scrolled": true
   },
   "outputs": [
    {
     "name": "stdout",
     "output_type": "stream",
     "text": [
      "mse: 885.4929229200344\n",
      "\n",
      "rmse: 29.757233119361658\n",
      "\n",
      "mae: 21.863015407795682\n",
      "\n",
      "r2: 0.06720143197324491\n"
     ]
    }
   ],
   "source": [
    "from sklearn.metrics import r2_score, mean_absolute_error, mean_squared_error\n",
    "\n",
    "mse = mean_squared_error(y_test, y_pred)\n",
    "rmse = np.sqrt(mse)\n",
    "mae = mean_absolute_error(y_test, y_pred)\n",
    "r2 = r2_score(y_test, y_pred)\n",
    "\n",
    "print(f'mse: {mse}\\n')\n",
    "print(f'rmse: {rmse}\\n')\n",
    "print(f'mae: {mae}\\n')\n",
    "print(f'r2: {r2}')"
   ]
  },
  {
   "cell_type": "code",
   "execution_count": 55,
   "id": "a7876dc3",
   "metadata": {
    "scrolled": true
   },
   "outputs": [],
   "source": [
    "import pickle\n",
    "\n",
    "with open('./model/model.pkl', 'wb') as pickle_file:\n",
    "    pickle.dump(model, pickle_file)"
   ]
  },
  {
   "cell_type": "code",
   "execution_count": 65,
   "id": "cffa3d72",
   "metadata": {},
   "outputs": [
    {
     "name": "stdout",
     "output_type": "stream",
     "text": [
      "[38.25361994 46.97791688 35.21569118 ... 35.25827532 60.5130083\n",
      " 42.04326966]\n"
     ]
    }
   ],
   "source": [
    "print(y_pred)"
   ]
  },
  {
   "cell_type": "code",
   "execution_count": 66,
   "id": "e93c4220",
   "metadata": {},
   "outputs": [
    {
     "name": "stdout",
     "output_type": "stream",
     "text": [
      "8755       8.87\n",
      "15418     31.70\n",
      "21100     37.77\n",
      "19038     10.60\n",
      "7155      40.23\n",
      "          ...  \n",
      "8494      12.17\n",
      "3674     121.90\n",
      "8721      57.57\n",
      "44148     32.23\n",
      "18607     13.97\n",
      "Name: waiting_time, Length: 9631, dtype: float64\n"
     ]
    }
   ],
   "source": [
    "print(y_test)"
   ]
  },
  {
   "cell_type": "code",
   "execution_count": 59,
   "id": "a13b19dc",
   "metadata": {},
   "outputs": [
    {
     "name": "stdout",
     "output_type": "stream",
     "text": [
      "7671     10.27\n",
      "30097    12.50\n",
      "20348    55.30\n",
      "17366    19.77\n",
      "17050    61.20\n",
      "         ...  \n",
      "11284    69.70\n",
      "44732    30.13\n",
      "38158    49.33\n",
      "860      24.33\n",
      "15795    51.70\n",
      "Name: waiting_time, Length: 38522, dtype: float64\n"
     ]
    }
   ],
   "source": [
    "print(y_train)"
   ]
  }
 ],
 "metadata": {
  "kernelspec": {
   "display_name": "Python 3 (ipykernel)",
   "language": "python",
   "name": "python3"
  },
  "language_info": {
   "codemirror_mode": {
    "name": "ipython",
    "version": 3
   },
   "file_extension": ".py",
   "mimetype": "text/x-python",
   "name": "python",
   "nbconvert_exporter": "python",
   "pygments_lexer": "ipython3",
   "version": "3.10.9"
  }
 },
 "nbformat": 4,
 "nbformat_minor": 5
}
