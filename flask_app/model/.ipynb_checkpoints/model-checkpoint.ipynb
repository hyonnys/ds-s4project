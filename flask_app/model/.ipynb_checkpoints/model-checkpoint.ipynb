{
 "cells": [
  {
   "cell_type": "code",
   "execution_count": 1,
   "id": "f13b8f9a",
   "metadata": {},
   "outputs": [
    {
     "name": "stdout",
     "output_type": "stream",
     "text": [
      "Requirement already satisfied: pandas in c:\\users\\owner\\anaconda3\\lib\\site-packages (1.5.3)\n",
      "Requirement already satisfied: python-dateutil>=2.8.1 in c:\\users\\owner\\anaconda3\\lib\\site-packages (from pandas) (2.8.2)\n",
      "Requirement already satisfied: numpy>=1.21.0 in c:\\users\\owner\\anaconda3\\lib\\site-packages (from pandas) (1.23.5)\n",
      "Requirement already satisfied: pytz>=2020.1 in c:\\users\\owner\\anaconda3\\lib\\site-packages (from pandas) (2022.7)\n",
      "Requirement already satisfied: six>=1.5 in c:\\users\\owner\\anaconda3\\lib\\site-packages (from python-dateutil>=2.8.1->pandas) (1.16.0)\n",
      "Requirement already satisfied: numpy in c:\\users\\owner\\anaconda3\\lib\\site-packages (1.23.5)\n",
      "Requirement already satisfied: scikit-learn in c:\\users\\owner\\anaconda3\\lib\\site-packages (1.2.2)\n",
      "Requirement already satisfied: joblib>=1.1.1 in c:\\users\\owner\\anaconda3\\lib\\site-packages (from scikit-learn) (1.1.1)\n",
      "Requirement already satisfied: numpy>=1.17.3 in c:\\users\\owner\\anaconda3\\lib\\site-packages (from scikit-learn) (1.23.5)\n",
      "Requirement already satisfied: scipy>=1.3.2 in c:\\users\\owner\\anaconda3\\lib\\site-packages (from scikit-learn) (1.10.0)\n",
      "Requirement already satisfied: threadpoolctl>=2.0.0 in c:\\users\\owner\\anaconda3\\lib\\site-packages (from scikit-learn) (2.2.0)\n"
     ]
    }
   ],
   "source": [
    "!pip install pandas\n",
    "!pip install numpy\n",
    "!pip install -U scikit-learn"
   ]
  },
  {
   "cell_type": "code",
   "execution_count": 2,
   "id": "c03625ac",
   "metadata": {},
   "outputs": [
    {
     "ename": "OperationalError",
     "evalue": "unable to open database file",
     "output_type": "error",
     "traceback": [
      "\u001b[1;31m---------------------------------------------------------------------------\u001b[0m",
      "\u001b[1;31mOperationalError\u001b[0m                          Traceback (most recent call last)",
      "Cell \u001b[1;32mIn[2], line 3\u001b[0m\n\u001b[0;32m      1\u001b[0m \u001b[38;5;28;01mimport\u001b[39;00m \u001b[38;5;21;01msqlite3\u001b[39;00m\n\u001b[1;32m----> 3\u001b[0m con\u001b[38;5;241m=\u001b[39m\u001b[43msqlite3\u001b[49m\u001b[38;5;241;43m.\u001b[39;49m\u001b[43m \u001b[49m\u001b[43mconnect\u001b[49m\u001b[43m(\u001b[49m\u001b[38;5;124;43m'\u001b[39;49m\u001b[38;5;124;43m./data/waitlist.db\u001b[39;49m\u001b[38;5;124;43m'\u001b[39;49m\u001b[43m)\u001b[49m\n\u001b[0;32m      4\u001b[0m cur\u001b[38;5;241m=\u001b[39mcon\u001b[38;5;241m.\u001b[39mcursor()\n",
      "\u001b[1;31mOperationalError\u001b[0m: unable to open database file"
     ]
    }
   ],
   "source": [
    "import sqlite3\n",
    "\n",
    "con=sqlite3. connect('./data/waitlist.db')\n",
    "cur=con.cursor()"
   ]
  },
  {
   "cell_type": "code",
   "execution_count": null,
   "id": "3a789379",
   "metadata": {},
   "outputs": [],
   "source": [
    "import pandas as pd\n",
    "import numpy as np\n",
    "from sklearn.pipeline import make_pipeline\n",
    "from sklearn.ensemble import RandomForestRegressor\n",
    "from sklearn.model_selection import train_test_split, RandomizedSearchCV\n",
    "from sklearn.impute import SimpleImputer\n",
    "from sklearn.preprocessing import MinMaxScaler, LabelEncoder"
   ]
  },
  {
   "cell_type": "code",
   "execution_count": null,
   "id": "1a7b99c5",
   "metadata": {},
   "outputs": [],
   "source": [
    "df = pd.read_sql_query(\"SELECT * FROM kidney_waitlist\", con)\n",
    "df.head()"
   ]
  },
  {
   "cell_type": "code",
   "execution_count": null,
   "id": "c0216e89",
   "metadata": {},
   "outputs": [],
   "source": [
    "df['blood_group'].unique()"
   ]
  },
  {
   "cell_type": "code",
   "execution_count": null,
   "id": "4df3462a",
   "metadata": {},
   "outputs": [],
   "source": [
    "df.loc[[7671]].T"
   ]
  },
  {
   "cell_type": "code",
   "execution_count": null,
   "id": "aea5ce1f",
   "metadata": {},
   "outputs": [],
   "source": [
    "# separate feature / target\n",
    "y = df['waiting_time']\n",
    "x = df.drop(columns=['waiting_time', 'patient_id', 'death',\\\n",
    "                     'transplanted_or_not', 'HLA_A1', 'HLA_A2',\\\n",
    "                     'HLA_B1', 'HLA_B2', 'HLA_DR1', 'HLA_DR2', 'prior_transplant', 'gender'])"
   ]
  },
  {
   "cell_type": "code",
   "execution_count": null,
   "id": "695ac566",
   "metadata": {
    "scrolled": true
   },
   "outputs": [],
   "source": [
    "x.info()"
   ]
  },
  {
   "cell_type": "code",
   "execution_count": null,
   "id": "b9beadce",
   "metadata": {},
   "outputs": [],
   "source": [
    "# separate train / test\n",
    "x_train, x_test,y_train, y_test = train_test_split(x, y,test_size=0.2, random_state=42)"
   ]
  },
  {
   "cell_type": "code",
   "execution_count": null,
   "id": "7df0a200",
   "metadata": {},
   "outputs": [],
   "source": [
    "x_train.head().T"
   ]
  },
  {
   "cell_type": "code",
   "execution_count": null,
   "id": "179dc4ec",
   "metadata": {},
   "outputs": [],
   "source": [
    "# 범주형 데이터 인코딩\n",
    "from sklearn.preprocessing import LabelEncoder\n",
    "\n",
    "cat_features = x.select_dtypes(include=['object']).columns\n",
    "le = LabelEncoder()\n",
    "\n",
    "for column in cat_features:\n",
    "    x_train[column] = le.fit_transform(x_train[column])\n",
    "    x_test[column] = le.transform(x_test[column])"
   ]
  },
  {
   "cell_type": "code",
   "execution_count": null,
   "id": "5a6dae37",
   "metadata": {
    "scrolled": true
   },
   "outputs": [],
   "source": [
    "# 인코딩 확인\n",
    "x_train.info()"
   ]
  },
  {
   "cell_type": "code",
   "execution_count": null,
   "id": "d0ba40ea",
   "metadata": {},
   "outputs": [],
   "source": [
    "x_train.head().T"
   ]
  },
  {
   "cell_type": "code",
   "execution_count": null,
   "id": "84e1c957",
   "metadata": {},
   "outputs": [],
   "source": [
    "x_test.head().T"
   ]
  },
  {
   "cell_type": "code",
   "execution_count": null,
   "id": "cdda448b",
   "metadata": {},
   "outputs": [],
   "source": [
    "x_test['cPRA_cat'].unique()"
   ]
  },
  {
   "cell_type": "code",
   "execution_count": null,
   "id": "9485622a",
   "metadata": {},
   "outputs": [],
   "source": [
    "model = make_pipeline(\n",
    "    MinMaxScaler(),\n",
    "    SimpleImputer(strategy='median'), \n",
    "    RandomForestRegressor(\n",
    "        n_estimators=100,\n",
    "        max_depth=10,\n",
    "        random_state=42)\n",
    ")\n",
    "\n",
    "model.fit(x_train, y_train)\n",
    "\n",
    "y_pred = model.predict(x_test)"
   ]
  },
  {
   "cell_type": "code",
   "execution_count": null,
   "id": "ed5d3796",
   "metadata": {
    "scrolled": true
   },
   "outputs": [],
   "source": [
    "from sklearn.metrics import r2_score, mean_absolute_error, mean_squared_error\n",
    "\n",
    "mse = mean_squared_error(y_test, y_pred)\n",
    "rmse = np.sqrt(mse)\n",
    "mae = mean_absolute_error(y_test, y_pred)\n",
    "r2 = r2_score(y_test, y_pred)\n",
    "\n",
    "print(f'mse: {mse}\\n')\n",
    "print(f'rmse: {rmse}\\n')\n",
    "print(f'mae: {mae}\\n')\n",
    "print(f'r2: {r2}')"
   ]
  },
  {
   "cell_type": "code",
   "execution_count": null,
   "id": "a7876dc3",
   "metadata": {
    "scrolled": true
   },
   "outputs": [],
   "source": [
    "import pickle\n",
    "\n",
    "with open('./model/model.pkl', 'wb') as pickle_file:\n",
    "    pickle.dump(model, pickle_file)"
   ]
  },
  {
   "cell_type": "code",
   "execution_count": null,
   "id": "cffa3d72",
   "metadata": {},
   "outputs": [],
   "source": [
    "print(y_pred)"
   ]
  },
  {
   "cell_type": "code",
   "execution_count": null,
   "id": "e93c4220",
   "metadata": {},
   "outputs": [],
   "source": [
    "print(y_test)"
   ]
  },
  {
   "cell_type": "code",
   "execution_count": null,
   "id": "a13b19dc",
   "metadata": {},
   "outputs": [],
   "source": [
    "print(y_train)"
   ]
  }
 ],
 "metadata": {
  "kernelspec": {
   "display_name": "Python 3 (ipykernel)",
   "language": "python",
   "name": "python3"
  },
  "language_info": {
   "codemirror_mode": {
    "name": "ipython",
    "version": 3
   },
   "file_extension": ".py",
   "mimetype": "text/x-python",
   "name": "python",
   "nbconvert_exporter": "python",
   "pygments_lexer": "ipython3",
   "version": "3.10.9"
  }
 },
 "nbformat": 4,
 "nbformat_minor": 5
}
